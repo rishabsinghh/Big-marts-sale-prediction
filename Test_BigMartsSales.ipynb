{
  "nbformat": 4,
  "nbformat_minor": 0,
  "metadata": {
    "colab": {
      "name": "Test_BigMartsSales.ipynb",
      "provenance": [],
      "collapsed_sections": []
    },
    "kernelspec": {
      "name": "python3",
      "display_name": "Python 3"
    }
  },
  "cells": [
    {
      "cell_type": "code",
      "metadata": {
        "id": "85RokqxZRrf1",
        "colab_type": "code",
        "colab": {}
      },
      "source": [
        "import pandas as pd\n",
        "import matplotlib.pyplot as plt\n",
        "import numpy as np\n",
        "import seaborn as sns"
      ],
      "execution_count": 109,
      "outputs": []
    },
    {
      "cell_type": "code",
      "metadata": {
        "id": "-CkJHFXATE0J",
        "colab_type": "code",
        "colab": {}
      },
      "source": [
        "test=pd.read_csv('test_AbJTz2l.csv')"
      ],
      "execution_count": 110,
      "outputs": []
    },
    {
      "cell_type": "code",
      "metadata": {
        "id": "a3QYyohxTLS7",
        "colab_type": "code",
        "colab": {
          "base_uri": "https://localhost:8080/",
          "height": 345
        },
        "outputId": "1f09f9c6-394c-4cd7-b699-0621b3a7a138"
      },
      "source": [
        "test.info()"
      ],
      "execution_count": 111,
      "outputs": [
        {
          "output_type": "stream",
          "text": [
            "<class 'pandas.core.frame.DataFrame'>\n",
            "RangeIndex: 5681 entries, 0 to 5680\n",
            "Data columns (total 11 columns):\n",
            " #   Column                     Non-Null Count  Dtype  \n",
            "---  ------                     --------------  -----  \n",
            " 0   Item_Identifier            5681 non-null   object \n",
            " 1   Item_Weight                4705 non-null   float64\n",
            " 2   Item_Fat_Content           5681 non-null   object \n",
            " 3   Item_Visibility            5681 non-null   float64\n",
            " 4   Item_Type                  5681 non-null   object \n",
            " 5   Item_MRP                   5681 non-null   float64\n",
            " 6   Outlet_Identifier          5681 non-null   object \n",
            " 7   Outlet_Establishment_Year  5681 non-null   int64  \n",
            " 8   Outlet_Size                4075 non-null   object \n",
            " 9   Outlet_Location_Type       5681 non-null   object \n",
            " 10  Outlet_Type                5681 non-null   object \n",
            "dtypes: float64(3), int64(1), object(7)\n",
            "memory usage: 488.3+ KB\n"
          ],
          "name": "stdout"
        }
      ]
    },
    {
      "cell_type": "code",
      "metadata": {
        "id": "_Qb9A0LVThC2",
        "colab_type": "code",
        "colab": {}
      },
      "source": [
        "test['Item_Weight'].fillna(test['Item_Weight'].median(),inplace=True)\n",
        "test['Outlet_Size'].fillna('U',inplace=True)"
      ],
      "execution_count": 112,
      "outputs": []
    },
    {
      "cell_type": "code",
      "metadata": {
        "id": "qS8eB-YLUmMw",
        "colab_type": "code",
        "colab": {
          "base_uri": "https://localhost:8080/",
          "height": 235
        },
        "outputId": "b29704f5-3f25-41b9-e1e4-0e37eddd7bf1"
      },
      "source": [
        "test.isnull().sum()"
      ],
      "execution_count": 113,
      "outputs": [
        {
          "output_type": "execute_result",
          "data": {
            "text/plain": [
              "Item_Identifier              0\n",
              "Item_Weight                  0\n",
              "Item_Fat_Content             0\n",
              "Item_Visibility              0\n",
              "Item_Type                    0\n",
              "Item_MRP                     0\n",
              "Outlet_Identifier            0\n",
              "Outlet_Establishment_Year    0\n",
              "Outlet_Size                  0\n",
              "Outlet_Location_Type         0\n",
              "Outlet_Type                  0\n",
              "dtype: int64"
            ]
          },
          "metadata": {
            "tags": []
          },
          "execution_count": 113
        }
      ]
    },
    {
      "cell_type": "code",
      "metadata": {
        "id": "A9AcYxliUql4",
        "colab_type": "code",
        "colab": {}
      },
      "source": [
        "numerical_features=[feature for feature in test.columns if test[feature].dtype!='O' and feature not in test['Outlet_Establishment_Year']]"
      ],
      "execution_count": 114,
      "outputs": []
    },
    {
      "cell_type": "code",
      "metadata": {
        "id": "i9NoXtJOpesg",
        "colab_type": "code",
        "colab": {}
      },
      "source": [
        "numerical_features.remove('Outlet_Establishment_Year')"
      ],
      "execution_count": 115,
      "outputs": []
    },
    {
      "cell_type": "code",
      "metadata": {
        "id": "mA7Y4PMhUxo8",
        "colab_type": "code",
        "colab": {}
      },
      "source": [
        "test['Item_Fat_Content'].replace(['low fat','LF'],'Low Fat',inplace=True)"
      ],
      "execution_count": 116,
      "outputs": []
    },
    {
      "cell_type": "code",
      "metadata": {
        "id": "mlx8z4j0W82l",
        "colab_type": "code",
        "colab": {}
      },
      "source": [
        "test['Outlet_No']=test['Outlet_Identifier'].str[3:]"
      ],
      "execution_count": 117,
      "outputs": []
    },
    {
      "cell_type": "code",
      "metadata": {
        "id": "7xJA2mxNEY2h",
        "colab_type": "code",
        "colab": {}
      },
      "source": [
        "test['Item_Fat_Content'].replace('reg','Regular',inplace=True)"
      ],
      "execution_count": 118,
      "outputs": []
    },
    {
      "cell_type": "code",
      "metadata": {
        "id": "mBc6sWEMEfvc",
        "colab_type": "code",
        "colab": {}
      },
      "source": [
        "test['Years active']=2013-test['Outlet_Establishment_Year']"
      ],
      "execution_count": 119,
      "outputs": []
    },
    {
      "cell_type": "code",
      "metadata": {
        "id": "sQ9fPFJ9XFP0",
        "colab_type": "code",
        "colab": {}
      },
      "source": [
        "test.drop(['Outlet_Identifier'],axis=1,inplace=True)"
      ],
      "execution_count": 120,
      "outputs": []
    },
    {
      "cell_type": "code",
      "metadata": {
        "id": "RALJbRzAIVRw",
        "colab_type": "code",
        "colab": {}
      },
      "source": [
        "med=test['Item_Visibility'].median()\n",
        "test['Item_Visibility'].replace(0,med,inplace=True)"
      ],
      "execution_count": 121,
      "outputs": []
    },
    {
      "cell_type": "code",
      "metadata": {
        "id": "LEHAGiuBIoMM",
        "colab_type": "code",
        "colab": {}
      },
      "source": [
        "test['Item_Type_Combined'] = test['Item_Identifier'].apply(lambda x: x[0:2])\n",
        "test['Item_Type_Combined'] = test['Item_Type_Combined'].map({'FD':'Food',\n",
        "                                                             'NC':'Non-Consumable',\n",
        "                                                             'DR':'Drinks'})"
      ],
      "execution_count": 122,
      "outputs": []
    },
    {
      "cell_type": "code",
      "metadata": {
        "id": "RWXtF55FI3vI",
        "colab_type": "code",
        "colab": {}
      },
      "source": [
        "test.loc[test['Item_Type_Combined']==\"Non-Consumable\",'Item_Fat_Content'] = \"Non-Edible\""
      ],
      "execution_count": 123,
      "outputs": []
    },
    {
      "cell_type": "code",
      "metadata": {
        "id": "WH_XNLKyI9Wm",
        "colab_type": "code",
        "colab": {}
      },
      "source": [
        "test.drop(['Item_Type'],axis=1,inplace=True)"
      ],
      "execution_count": 124,
      "outputs": []
    },
    {
      "cell_type": "code",
      "metadata": {
        "id": "lWipt60RXJEt",
        "colab_type": "code",
        "colab": {}
      },
      "source": [
        "Outlet_size=pd.get_dummies(test['Outlet_Size'],drop_first=True)\n",
        "Outlet_location=pd.get_dummies(test['Outlet_Location_Type'],drop_first=True)\n",
        "Outlet_Type=pd.get_dummies(test['Outlet_Type'],drop_first=True)\n",
        "Item_Fat_Content=pd.get_dummies(test['Item_Fat_Content'],drop_first=True)\n"
      ],
      "execution_count": 125,
      "outputs": []
    },
    {
      "cell_type": "code",
      "metadata": {
        "id": "x9q2KGmPXQ__",
        "colab_type": "code",
        "colab": {}
      },
      "source": [
        "test.drop(['Outlet_Size','Outlet_Location_Type','Outlet_Type','Item_Fat_Content','Outlet_Establishment_Year'],axis=1,inplace=True)"
      ],
      "execution_count": 126,
      "outputs": []
    },
    {
      "cell_type": "code",
      "metadata": {
        "id": "K5WnS_S9XUU7",
        "colab_type": "code",
        "colab": {}
      },
      "source": [
        "test=pd.concat([test,Outlet_size,Outlet_location,Outlet_Type,Item_Fat_Content],axis=1)"
      ],
      "execution_count": 127,
      "outputs": []
    },
    {
      "cell_type": "code",
      "metadata": {
        "id": "XcaErFlbXaob",
        "colab_type": "code",
        "colab": {}
      },
      "source": [
        "from sklearn.preprocessing import LabelEncoder\n",
        "le=LabelEncoder()\n",
        "test['Item_Type_Combined']=le.fit_transform(test.Item_Type_Combined)"
      ],
      "execution_count": 128,
      "outputs": []
    },
    {
      "cell_type": "code",
      "metadata": {
        "id": "1SL3GHyKXhfd",
        "colab_type": "code",
        "colab": {
          "base_uri": "https://localhost:8080/",
          "height": 235
        },
        "outputId": "c9d02443-76d3-4dc4-ef57-1b768f0c046c"
      },
      "source": [
        "test.head()"
      ],
      "execution_count": 129,
      "outputs": [
        {
          "output_type": "execute_result",
          "data": {
            "text/html": [
              "<div>\n",
              "<style scoped>\n",
              "    .dataframe tbody tr th:only-of-type {\n",
              "        vertical-align: middle;\n",
              "    }\n",
              "\n",
              "    .dataframe tbody tr th {\n",
              "        vertical-align: top;\n",
              "    }\n",
              "\n",
              "    .dataframe thead th {\n",
              "        text-align: right;\n",
              "    }\n",
              "</style>\n",
              "<table border=\"1\" class=\"dataframe\">\n",
              "  <thead>\n",
              "    <tr style=\"text-align: right;\">\n",
              "      <th></th>\n",
              "      <th>Item_Identifier</th>\n",
              "      <th>Item_Weight</th>\n",
              "      <th>Item_Visibility</th>\n",
              "      <th>Item_MRP</th>\n",
              "      <th>Outlet_No</th>\n",
              "      <th>Years active</th>\n",
              "      <th>Item_Type_Combined</th>\n",
              "      <th>Medium</th>\n",
              "      <th>Small</th>\n",
              "      <th>U</th>\n",
              "      <th>Tier 2</th>\n",
              "      <th>Tier 3</th>\n",
              "      <th>Supermarket Type1</th>\n",
              "      <th>Supermarket Type2</th>\n",
              "      <th>Supermarket Type3</th>\n",
              "      <th>Non-Edible</th>\n",
              "      <th>Regular</th>\n",
              "    </tr>\n",
              "  </thead>\n",
              "  <tbody>\n",
              "    <tr>\n",
              "      <th>0</th>\n",
              "      <td>FDW58</td>\n",
              "      <td>20.750</td>\n",
              "      <td>0.007565</td>\n",
              "      <td>107.8622</td>\n",
              "      <td>049</td>\n",
              "      <td>14</td>\n",
              "      <td>1</td>\n",
              "      <td>1</td>\n",
              "      <td>0</td>\n",
              "      <td>0</td>\n",
              "      <td>0</td>\n",
              "      <td>0</td>\n",
              "      <td>1</td>\n",
              "      <td>0</td>\n",
              "      <td>0</td>\n",
              "      <td>0</td>\n",
              "      <td>0</td>\n",
              "    </tr>\n",
              "    <tr>\n",
              "      <th>1</th>\n",
              "      <td>FDW14</td>\n",
              "      <td>8.300</td>\n",
              "      <td>0.038428</td>\n",
              "      <td>87.3198</td>\n",
              "      <td>017</td>\n",
              "      <td>6</td>\n",
              "      <td>1</td>\n",
              "      <td>0</td>\n",
              "      <td>0</td>\n",
              "      <td>1</td>\n",
              "      <td>1</td>\n",
              "      <td>0</td>\n",
              "      <td>1</td>\n",
              "      <td>0</td>\n",
              "      <td>0</td>\n",
              "      <td>0</td>\n",
              "      <td>1</td>\n",
              "    </tr>\n",
              "    <tr>\n",
              "      <th>2</th>\n",
              "      <td>NCN55</td>\n",
              "      <td>14.600</td>\n",
              "      <td>0.099575</td>\n",
              "      <td>241.7538</td>\n",
              "      <td>010</td>\n",
              "      <td>15</td>\n",
              "      <td>2</td>\n",
              "      <td>0</td>\n",
              "      <td>0</td>\n",
              "      <td>1</td>\n",
              "      <td>0</td>\n",
              "      <td>1</td>\n",
              "      <td>0</td>\n",
              "      <td>0</td>\n",
              "      <td>0</td>\n",
              "      <td>1</td>\n",
              "      <td>0</td>\n",
              "    </tr>\n",
              "    <tr>\n",
              "      <th>3</th>\n",
              "      <td>FDQ58</td>\n",
              "      <td>7.315</td>\n",
              "      <td>0.015388</td>\n",
              "      <td>155.0340</td>\n",
              "      <td>017</td>\n",
              "      <td>6</td>\n",
              "      <td>1</td>\n",
              "      <td>0</td>\n",
              "      <td>0</td>\n",
              "      <td>1</td>\n",
              "      <td>1</td>\n",
              "      <td>0</td>\n",
              "      <td>1</td>\n",
              "      <td>0</td>\n",
              "      <td>0</td>\n",
              "      <td>0</td>\n",
              "      <td>0</td>\n",
              "    </tr>\n",
              "    <tr>\n",
              "      <th>4</th>\n",
              "      <td>FDY38</td>\n",
              "      <td>12.500</td>\n",
              "      <td>0.118599</td>\n",
              "      <td>234.2300</td>\n",
              "      <td>027</td>\n",
              "      <td>28</td>\n",
              "      <td>1</td>\n",
              "      <td>1</td>\n",
              "      <td>0</td>\n",
              "      <td>0</td>\n",
              "      <td>0</td>\n",
              "      <td>1</td>\n",
              "      <td>0</td>\n",
              "      <td>0</td>\n",
              "      <td>1</td>\n",
              "      <td>0</td>\n",
              "      <td>1</td>\n",
              "    </tr>\n",
              "  </tbody>\n",
              "</table>\n",
              "</div>"
            ],
            "text/plain": [
              "  Item_Identifier  Item_Weight  ...  Non-Edible  Regular\n",
              "0           FDW58       20.750  ...           0        0\n",
              "1           FDW14        8.300  ...           0        1\n",
              "2           NCN55       14.600  ...           1        0\n",
              "3           FDQ58        7.315  ...           0        0\n",
              "4           FDY38       12.500  ...           0        1\n",
              "\n",
              "[5 rows x 17 columns]"
            ]
          },
          "metadata": {
            "tags": []
          },
          "execution_count": 129
        }
      ]
    },
    {
      "cell_type": "code",
      "metadata": {
        "id": "p_CKzzv0Xk6i",
        "colab_type": "code",
        "colab": {}
      },
      "source": [
        "log_features=[feature for feature in numerical_features if feature not in['Item_Identifier'] and test[feature].min()!=0]"
      ],
      "execution_count": 130,
      "outputs": []
    },
    {
      "cell_type": "code",
      "metadata": {
        "id": "q6U_vrFwXwIu",
        "colab_type": "code",
        "colab": {}
      },
      "source": [
        "for feature in log_features:\n",
        "  test[feature]=np.log(test[feature])"
      ],
      "execution_count": 131,
      "outputs": []
    },
    {
      "cell_type": "code",
      "metadata": {
        "id": "aWAHC21jX0vs",
        "colab_type": "code",
        "colab": {
          "base_uri": "https://localhost:8080/",
          "height": 35
        },
        "outputId": "999830ce-1004-444b-e849-a446a241216c"
      },
      "source": [
        "features_scale=[feature for feature in test.columns if feature not in['Item_Identifier','Item_Outlet_Sales']]\n",
        "from sklearn.preprocessing import MinMaxScaler\n",
        "scaler=MinMaxScaler()\n",
        "scaler.fit(test[features_scale])"
      ],
      "execution_count": 132,
      "outputs": [
        {
          "output_type": "execute_result",
          "data": {
            "text/plain": [
              "MinMaxScaler(copy=True, feature_range=(0, 1))"
            ]
          },
          "metadata": {
            "tags": []
          },
          "execution_count": 132
        }
      ]
    },
    {
      "cell_type": "code",
      "metadata": {
        "id": "E5b73ogrX6Fl",
        "colab_type": "code",
        "colab": {
          "base_uri": "https://localhost:8080/",
          "height": 235
        },
        "outputId": "a6591278-6a79-4a07-8d8d-996150140fcd"
      },
      "source": [
        "test.head()"
      ],
      "execution_count": 133,
      "outputs": [
        {
          "output_type": "execute_result",
          "data": {
            "text/html": [
              "<div>\n",
              "<style scoped>\n",
              "    .dataframe tbody tr th:only-of-type {\n",
              "        vertical-align: middle;\n",
              "    }\n",
              "\n",
              "    .dataframe tbody tr th {\n",
              "        vertical-align: top;\n",
              "    }\n",
              "\n",
              "    .dataframe thead th {\n",
              "        text-align: right;\n",
              "    }\n",
              "</style>\n",
              "<table border=\"1\" class=\"dataframe\">\n",
              "  <thead>\n",
              "    <tr style=\"text-align: right;\">\n",
              "      <th></th>\n",
              "      <th>Item_Identifier</th>\n",
              "      <th>Item_Weight</th>\n",
              "      <th>Item_Visibility</th>\n",
              "      <th>Item_MRP</th>\n",
              "      <th>Outlet_No</th>\n",
              "      <th>Years active</th>\n",
              "      <th>Item_Type_Combined</th>\n",
              "      <th>Medium</th>\n",
              "      <th>Small</th>\n",
              "      <th>U</th>\n",
              "      <th>Tier 2</th>\n",
              "      <th>Tier 3</th>\n",
              "      <th>Supermarket Type1</th>\n",
              "      <th>Supermarket Type2</th>\n",
              "      <th>Supermarket Type3</th>\n",
              "      <th>Non-Edible</th>\n",
              "      <th>Regular</th>\n",
              "    </tr>\n",
              "  </thead>\n",
              "  <tbody>\n",
              "    <tr>\n",
              "      <th>0</th>\n",
              "      <td>FDW58</td>\n",
              "      <td>3.032546</td>\n",
              "      <td>-4.884245</td>\n",
              "      <td>4.680854</td>\n",
              "      <td>049</td>\n",
              "      <td>14</td>\n",
              "      <td>1</td>\n",
              "      <td>1</td>\n",
              "      <td>0</td>\n",
              "      <td>0</td>\n",
              "      <td>0</td>\n",
              "      <td>0</td>\n",
              "      <td>1</td>\n",
              "      <td>0</td>\n",
              "      <td>0</td>\n",
              "      <td>0</td>\n",
              "      <td>0</td>\n",
              "    </tr>\n",
              "    <tr>\n",
              "      <th>1</th>\n",
              "      <td>FDW14</td>\n",
              "      <td>2.116256</td>\n",
              "      <td>-3.258977</td>\n",
              "      <td>4.469577</td>\n",
              "      <td>017</td>\n",
              "      <td>6</td>\n",
              "      <td>1</td>\n",
              "      <td>0</td>\n",
              "      <td>0</td>\n",
              "      <td>1</td>\n",
              "      <td>1</td>\n",
              "      <td>0</td>\n",
              "      <td>1</td>\n",
              "      <td>0</td>\n",
              "      <td>0</td>\n",
              "      <td>0</td>\n",
              "      <td>1</td>\n",
              "    </tr>\n",
              "    <tr>\n",
              "      <th>2</th>\n",
              "      <td>NCN55</td>\n",
              "      <td>2.681022</td>\n",
              "      <td>-2.306845</td>\n",
              "      <td>5.487920</td>\n",
              "      <td>010</td>\n",
              "      <td>15</td>\n",
              "      <td>2</td>\n",
              "      <td>0</td>\n",
              "      <td>0</td>\n",
              "      <td>1</td>\n",
              "      <td>0</td>\n",
              "      <td>1</td>\n",
              "      <td>0</td>\n",
              "      <td>0</td>\n",
              "      <td>0</td>\n",
              "      <td>1</td>\n",
              "      <td>0</td>\n",
              "    </tr>\n",
              "    <tr>\n",
              "      <th>3</th>\n",
              "      <td>FDQ58</td>\n",
              "      <td>1.989927</td>\n",
              "      <td>-4.174142</td>\n",
              "      <td>5.043644</td>\n",
              "      <td>017</td>\n",
              "      <td>6</td>\n",
              "      <td>1</td>\n",
              "      <td>0</td>\n",
              "      <td>0</td>\n",
              "      <td>1</td>\n",
              "      <td>1</td>\n",
              "      <td>0</td>\n",
              "      <td>1</td>\n",
              "      <td>0</td>\n",
              "      <td>0</td>\n",
              "      <td>0</td>\n",
              "      <td>0</td>\n",
              "    </tr>\n",
              "    <tr>\n",
              "      <th>4</th>\n",
              "      <td>FDY38</td>\n",
              "      <td>2.525729</td>\n",
              "      <td>-2.132005</td>\n",
              "      <td>5.456304</td>\n",
              "      <td>027</td>\n",
              "      <td>28</td>\n",
              "      <td>1</td>\n",
              "      <td>1</td>\n",
              "      <td>0</td>\n",
              "      <td>0</td>\n",
              "      <td>0</td>\n",
              "      <td>1</td>\n",
              "      <td>0</td>\n",
              "      <td>0</td>\n",
              "      <td>1</td>\n",
              "      <td>0</td>\n",
              "      <td>1</td>\n",
              "    </tr>\n",
              "  </tbody>\n",
              "</table>\n",
              "</div>"
            ],
            "text/plain": [
              "  Item_Identifier  Item_Weight  ...  Non-Edible  Regular\n",
              "0           FDW58     3.032546  ...           0        0\n",
              "1           FDW14     2.116256  ...           0        1\n",
              "2           NCN55     2.681022  ...           1        0\n",
              "3           FDQ58     1.989927  ...           0        0\n",
              "4           FDY38     2.525729  ...           0        1\n",
              "\n",
              "[5 rows x 17 columns]"
            ]
          },
          "metadata": {
            "tags": []
          },
          "execution_count": 133
        }
      ]
    },
    {
      "cell_type": "code",
      "metadata": {
        "id": "dig-WNj6X8sG",
        "colab_type": "code",
        "colab": {}
      },
      "source": [
        "test_final=pd.concat([test[['Item_Identifier']].reset_index(drop=True),\n",
        "                       pd.DataFrame(scaler.transform(test[features_scale]),columns=features_scale)],axis=1)"
      ],
      "execution_count": 134,
      "outputs": []
    },
    {
      "cell_type": "code",
      "metadata": {
        "id": "3yj2lmYNYFb3",
        "colab_type": "code",
        "colab": {}
      },
      "source": [
        "test_final.to_csv('X_test.csv',index=False)"
      ],
      "execution_count": 135,
      "outputs": []
    },
    {
      "cell_type": "code",
      "metadata": {
        "id": "57KWAyM7YNIK",
        "colab_type": "code",
        "colab": {}
      },
      "source": [
        ""
      ],
      "execution_count": 135,
      "outputs": []
    }
  ]
}